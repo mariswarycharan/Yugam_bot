{
 "cells": [
  {
   "cell_type": "code",
   "execution_count": 15,
   "metadata": {},
   "outputs": [
    {
     "name": "stdout",
     "output_type": "stream",
     "text": [
      "TITLE of the event is \" #YUG-E-4 # MUSICAL CROSSROADS \" and description of the \" #YUG-E-4 # MUSICAL CROSSROADS \" event is Experience an immersive event that extends a unique opportunity to talented musicians of all calibers. Held on an informal stage, this gathering serves as a platform for performers to flaunt their skills. From emerging artists to seasoned virtuosos, participants captivate audiences with succinct yet enthralling sets. Join us for an evening of diverse musical expressions, where connections are forged and an environment of creativity thrives. Every note resonates with a shared passion for music, making this event an unforgettable celebration of artistic talent. RULES AND REGULATIONS: ●Each registered participant will be given a duration of 3 minutes to showcase their talent. ●Participants can register as an individual or as a group. ●Participants can sing or play instruments of their choice. ●An acoustic guitar, keyboard and a clap box will be provided. ●Instrumentalists shall accompany participants, if the organizing team is informed beforehand. ●Participants can bring their own instruments or can use the provided ones. ●Songs to be performed can be of any genre and any language. ●Songs should not contain any form of vulgarity or obscene words.\n",
      "\n"
     ]
    }
   ],
   "source": [
    "# Open the file in read mode\n",
    "with open(r'data\\eventsWorkshops.txt', 'r',encoding=\"utf-8\") as file:\n",
    "    # Iterate over each line in the file\n",
    "    for line in file:\n",
    "        try:\n",
    "            # Process each line here\n",
    "            num = line.strip().split('#YUG-E-')[1].split(' ')[0]\n",
    "            l = line.strip().replace('#YUG-E-' + num ,'#YUG-E-' + num + '#')\n",
    "            num = line.strip().split('#YUG-W-')[1].split(' ')[0]\n",
    "            l = line.strip().replace('#YUG-W-' + num ,'#YUG-W-' + num + '#')\n",
    "            print(l)\n",
    "        except:\n",
    "            print(line)\n",
    "            break\n",
    "    "
   ]
  },
  {
   "cell_type": "code",
   "execution_count": null,
   "metadata": {},
   "outputs": [],
   "source": []
  }
 ],
 "metadata": {
  "kernelspec": {
   "display_name": "venv",
   "language": "python",
   "name": "python3"
  },
  "language_info": {
   "codemirror_mode": {
    "name": "ipython",
    "version": 3
   },
   "file_extension": ".py",
   "mimetype": "text/x-python",
   "name": "python",
   "nbconvert_exporter": "python",
   "pygments_lexer": "ipython3",
   "version": "3.11.6"
  }
 },
 "nbformat": 4,
 "nbformat_minor": 2
}
